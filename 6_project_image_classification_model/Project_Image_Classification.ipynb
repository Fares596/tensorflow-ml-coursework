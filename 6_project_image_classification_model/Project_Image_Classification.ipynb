{
 "cells": [
  {
   "cell_type": "code",
   "execution_count": 1,
   "id": "3ef04977",
   "metadata": {},
   "outputs": [],
   "source": [
    "import tensorflow as tf\n",
    "from tensorflow.keras.datasets import mnist\n",
    "from tensorflow.keras.utils import to_categorical"
   ]
  },
  {
   "cell_type": "code",
   "execution_count": 2,
   "id": "d40ef5db",
   "metadata": {},
   "outputs": [
    {
     "name": "stdout",
     "output_type": "stream",
     "text": [
      "Downloading data from https://storage.googleapis.com/tensorflow/tf-keras-datasets/mnist.npz\n",
      "11490434/11490434 [==============================] - 1s 0us/step\n"
     ]
    }
   ],
   "source": [
    "#load th e MNIST Datasets\n",
    "(X_train, y_train),(X_test,y_test) = mnist.load_data()\n"
   ]
  },
  {
   "cell_type": "code",
   "execution_count": 3,
   "id": "cdc84487",
   "metadata": {},
   "outputs": [],
   "source": [
    "# Precprocess the dataset\n",
    "X_train = X_train.reshape((-1,28,28,1))/255.0\n",
    "X_test = X_test.reshape((-1,28,28,1))/255.0\n",
    "y_train = to_categorical(y_train)\n",
    "y_test = to_categorical(y_test)"
   ]
  },
  {
   "cell_type": "code",
   "execution_count": 4,
   "id": "b4af99a0",
   "metadata": {},
   "outputs": [],
   "source": [
    "from tensorflow.keras.models import Sequential\n",
    "from tensorflow.keras.layers import Conv2D,MaxPooling2D, Flatten, Dense\n"
   ]
  },
  {
   "cell_type": "code",
   "execution_count": 5,
   "id": "652fdc9f",
   "metadata": {},
   "outputs": [],
   "source": [
    "# Build the CNN model\n",
    "model = Sequential([\n",
    "    Conv2D(32,(3, 3), activation = 'relu', input_shape = (28,28,1)),\n",
    "    MaxPooling2D((2,2)),\n",
    "    Conv2D(64,(3,3),activation = 'relu'),\n",
    "    MaxPooling2D((2, 2)),\n",
    "    Flatten(),\n",
    "    Dense(64, activation = 'relu'),\n",
    "    Dense(10, activation = 'softmax')\n",
    "])"
   ]
  },
  {
   "cell_type": "code",
   "execution_count": 6,
   "id": "e42c0fb9",
   "metadata": {},
   "outputs": [
    {
     "name": "stdout",
     "output_type": "stream",
     "text": [
      "Epoch 1/10\n",
      "469/469 [==============================] - 17s 35ms/step - loss: 0.2517 - accuracy: 0.9248 - val_loss: 0.0773 - val_accuracy: 0.9761\n",
      "Epoch 2/10\n",
      "469/469 [==============================] - 17s 37ms/step - loss: 0.0654 - accuracy: 0.9804 - val_loss: 0.0480 - val_accuracy: 0.9848\n",
      "Epoch 3/10\n",
      "469/469 [==============================] - 17s 37ms/step - loss: 0.0452 - accuracy: 0.9865 - val_loss: 0.0388 - val_accuracy: 0.9872\n",
      "Epoch 4/10\n",
      "469/469 [==============================] - 17s 36ms/step - loss: 0.0357 - accuracy: 0.9892 - val_loss: 0.0361 - val_accuracy: 0.9874\n",
      "Epoch 5/10\n",
      "469/469 [==============================] - 17s 36ms/step - loss: 0.0295 - accuracy: 0.9908 - val_loss: 0.0363 - val_accuracy: 0.9880\n",
      "Epoch 6/10\n",
      "469/469 [==============================] - 17s 36ms/step - loss: 0.0246 - accuracy: 0.9924 - val_loss: 0.0325 - val_accuracy: 0.9891\n",
      "Epoch 7/10\n",
      "469/469 [==============================] - 17s 36ms/step - loss: 0.0200 - accuracy: 0.9937 - val_loss: 0.0262 - val_accuracy: 0.9915\n",
      "Epoch 8/10\n",
      "469/469 [==============================] - 17s 37ms/step - loss: 0.0171 - accuracy: 0.9944 - val_loss: 0.0344 - val_accuracy: 0.9888\n",
      "Epoch 9/10\n",
      "469/469 [==============================] - 18s 38ms/step - loss: 0.0131 - accuracy: 0.9959 - val_loss: 0.0303 - val_accuracy: 0.9911\n",
      "Epoch 10/10\n",
      "469/469 [==============================] - 21s 44ms/step - loss: 0.0111 - accuracy: 0.9964 - val_loss: 0.0321 - val_accuracy: 0.9900\n"
     ]
    },
    {
     "data": {
      "text/plain": [
       "<keras.src.callbacks.History at 0x1cff4535850>"
      ]
     },
     "execution_count": 6,
     "metadata": {},
     "output_type": "execute_result"
    }
   ],
   "source": [
    "# compile and train the model\n",
    "model.compile(optimizer='adam', loss = 'categorical_crossentropy', metrics=['accuracy'])\n",
    "model.fit(X_train,y_train, batch_size=128, epochs=10,validation_data=(X_test,y_test))\n"
   ]
  },
  {
   "cell_type": "code",
   "execution_count": 7,
   "id": "2dfda037",
   "metadata": {},
   "outputs": [
    {
     "name": "stdout",
     "output_type": "stream",
     "text": [
      "313/313 [==============================] - 2s 5ms/step - loss: 0.0321 - accuracy: 0.9900\n",
      "Test Loss: 0.0321\n",
      "Test Accuracy: 0.9900\n"
     ]
    }
   ],
   "source": [
    "# Evaluate the model on the test set\n",
    "test_loss, test_acc = model.evaluate(X_test,y_test)\n",
    "print(f'Test Loss: {test_loss:.4f}')\n",
    "print(f'Test Accuracy: {test_acc:.4f}')"
   ]
  },
  {
   "cell_type": "code",
   "execution_count": 8,
   "id": "151fe164",
   "metadata": {},
   "outputs": [],
   "source": [
    "import numpy as np\n",
    "import matplotlib.pyplot as plt"
   ]
  },
  {
   "cell_type": "code",
   "execution_count": 9,
   "id": "15c0fea5",
   "metadata": {},
   "outputs": [],
   "source": [
    "#Select random images from the test\n",
    "random_indexes = np.random.choice(len(X_test), size = 5, replace=False)\n",
    "images = X_test[random_indexes]\n",
    "true_labels = np.argmax(y_test[random_indexes], axis=1)\n",
    "\n"
   ]
  },
  {
   "cell_type": "code",
   "execution_count": 10,
   "id": "883fa8e3",
   "metadata": {},
   "outputs": [
    {
     "name": "stdout",
     "output_type": "stream",
     "text": [
      "1/1 [==============================] - 0s 138ms/step\n"
     ]
    }
   ],
   "source": [
    "#Make Predictions using the trained model\n",
    "predictions = np.argmax(model.predict(images), axis=1)\n"
   ]
  },
  {
   "cell_type": "code",
   "execution_count": 11,
   "id": "8e485155",
   "metadata": {},
   "outputs": [
    {
     "data": {
      "text/plain": [
       "<function matplotlib.pyplot.show(close=None, block=None)>"
      ]
     },
     "execution_count": 11,
     "metadata": {},
     "output_type": "execute_result"
    },
    {
     "data": {
      "image/png": "[encoded data removed]",
      "text/plain": [
       "<Figure size 1200x400 with 5 Axes>"
      ]
     },
     "metadata": {},
     "output_type": "display_data"
    }
   ],
   "source": [
    "fig, axes = plt.subplots(1,5, figsize=(12,4))\n",
    "for i, (image,true_label,predicted_label) in enumerate(zip(images, true_labels, predictions)):\n",
    "    axes[i].imshow(image.squeeze(), cmap='gray')\n",
    "    axes[i].set_title(f'True: {true_label}, Predicted: {predicted_label}')\n",
    "    axes[i].axis('off')\n",
    "    \n",
    "plt.tight_layout()\n",
    "plt.show"
   ]
  },
  {
   "cell_type": "code",
   "execution_count": null,
   "id": "8cfcb6f8",
   "metadata": {},
   "outputs": [],
   "source": []
  }
 ],
 "metadata": {
  "kernelspec": {
   "display_name": "Python 3",
   "language": "python",
   "name": "python3"
  },
  "language_info": {
   "codemirror_mode": {
    "name": "ipython",
    "version": 3
   },
   "file_extension": ".py",
   "mimetype": "text/x-python",
   "name": "python",
   "nbconvert_exporter": "python",
   "pygments_lexer": "ipython3",
   "version": "3.8.8"
  }
 },
 "nbformat": 4,
 "nbformat_minor": 5
}
